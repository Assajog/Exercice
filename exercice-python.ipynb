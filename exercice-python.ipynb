{
 "cells": [
  {
   "cell_type": "markdown",
   "id": "c7f3a858",
   "metadata": {},
   "source": [
    "# Task 1: Model a Book"
   ]
  },
  {
   "cell_type": "code",
   "execution_count": 1,
   "id": "743cc8d5",
   "metadata": {},
   "outputs": [],
   "source": [
    "class Book:\n",
    "    def __init__(self, title: str, author: str):\n",
    "        self.title = title\n",
    "        self.author = author\n",
    "        self.is_available = True \n",
    "\n",
    "    def __str__(self):\n",
    "        availability = \"Available\" if self.is_available else \"Not Available\"\n",
    "        return f\"'{self.title}' by {self.author} - {availability}\""
   ]
  },
  {
   "cell_type": "markdown",
   "id": "30be3798",
   "metadata": {},
   "source": [
    "# Task 2: Create a Library Structure"
   ]
  },
  {
   "cell_type": "code",
   "execution_count": 2,
   "id": "18bf23a5",
   "metadata": {},
   "outputs": [],
   "source": [
    "class Library:\n",
    "    def __init__(self):\n",
    "        self.books = []\n",
    "    def add_book(self, title: str, author: str):\n",
    "        new_book = Book(title, author)\n",
    "        self.books.append(new_book)\n",
    "    def list_books(self) -> list:\n",
    "        return [str(book) for book in self.books]"
   ]
  },
  {
   "cell_type": "markdown",
   "id": "6099c73f",
   "metadata": {},
   "source": [
    "# Task 3: Populate the Library Dynamically"
   ]
  },
  {
   "cell_type": "code",
   "execution_count": 3,
   "id": "2540e200",
   "metadata": {},
   "outputs": [
    {
     "name": "stdout",
     "output_type": "stream",
     "text": [
      "'1984' by George Orwell - Available\n",
      "'Brave New World' by Aldous Huxley - Available\n"
     ]
    }
   ],
   "source": [
    "library = Library()\n",
    "\n",
    "library.add_book(\"1984\", \"George Orwell\")\n",
    "library.add_book(\"Brave New World\", \"Aldous Huxley\")\n",
    "\n",
    "books = library.list_books()\n",
    "for book in books:\n",
    "    print(book)"
   ]
  },
  {
   "cell_type": "markdown",
   "id": "6e8bc267",
   "metadata": {},
   "source": [
    "# Task 4: Introduce a Student Model"
   ]
  },
  {
   "cell_type": "code",
   "execution_count": 4,
   "id": "8cf26997",
   "metadata": {},
   "outputs": [],
   "source": [
    "class Student:\n",
    "    def __init__(self, name: str):\n",
    "        self.name = name\n",
    "        self.borrowed_books = []\n",
    "\n",
    "    def borrow_book(self, book_title: str, library: Library):\n",
    "        for book in library.books:\n",
    "            if book.title == book_title and book.is_available:\n",
    "                if book.borrow():\n",
    "                    self.borrowed_books.append(book)\n",
    "                    print(f\"{self.name} has borrowed '{book_title}'.\")\n",
    "                    return\n",
    "        print(f\"{book_title} is either not available or already borrowed.\")\n",
    "\n",
    "    def return_book(self, book_title: str, library: Library):\n",
    "        for book in self.borrowed_books:\n",
    "            if book.title == book_title:\n",
    "                if book.return_book():\n",
    "                    self.borrowed_books.remove(book)\n",
    "                    print(f\"{self.name} has returned '{book_title}'.\")\n",
    "                    return\n",
    "        print(f\"{self.name} has not borrowed '{book_title}'.\")"
   ]
  },
  {
   "cell_type": "markdown",
   "id": "1f7ffddd",
   "metadata": {},
   "source": [
    "# Task 5: Handle Book Lending Logic"
   ]
  },
  {
   "cell_type": "code",
   "execution_count": 5,
   "id": "534c719f",
   "metadata": {},
   "outputs": [],
   "source": [
    "class Library:\n",
    "    def __init__(self):\n",
    "        self.books = []\n",
    "    def add_book(self, title: str, author: str):\n",
    "        new_book = Book(title, author)\n",
    "        self.books.append(new_book)\n",
    "    def list_books(self) -> list:\n",
    "        return [str(book) for book in self.books]\n",
    "    def lend_book(self, book_title: str, student: Student) -> bool:\n",
    "        for book in self.books:\n",
    "            if book.title == book_title and book.is_available:\n",
    "                if book.borrow():\n",
    "                    student.borrowed_books.append(book)\n",
    "                    print(f\"{student.name} has borrowed '{book_title}' from the library.\")\n",
    "                    return True\n",
    "        print(f\"{book_title} is not available or is already borrowed.\")\n",
    "        return False\n",
    "    def accept_return(self, book_title: str, student: Student):\n",
    "        for book in student.borrowed_books:\n",
    "            if book.title == book_title:\n",
    "                if book.return_book():\n",
    "                    student.borrowed_books.remove(book)\n",
    "                    print(f\"{student.name} has returned '{book_title}' to the library.\")\n",
    "                    return\n",
    "        print(f\"{student.name} has not borrowed '{book_title}'.\")"
   ]
  },
  {
   "cell_type": "markdown",
   "id": "d5231619",
   "metadata": {},
   "source": [
    "# Task 6: Prevent Common Errors"
   ]
  },
  {
   "cell_type": "code",
   "execution_count": 6,
   "id": "fad0301a",
   "metadata": {},
   "outputs": [],
   "source": [
    "class Library:\n",
    "    def __init__(self):\n",
    "        self.books = []\n",
    "\n",
    "    def add_book(self, title: str, author: str):\n",
    "        # Création d'un objet Book et ajout à la collection de livres\n",
    "        new_book = Book(title, author)\n",
    "        self.books.append(new_book)\n",
    "\n",
    "    def list_books(self) -> list:\n",
    "        # Retourne une liste de chaînes représentant chaque livre\n",
    "        return [str(book) for book in self.books]\n",
    "\n",
    "    def lend_book(self, book_title: str, student: Student) -> bool:\n",
    "        # Recherche du livre dans la bibliothèque\n",
    "        for book in self.books:\n",
    "            if book.title == book_title:\n",
    "                # Vérification si le livre est disponible\n",
    "                if not book.is_available:\n",
    "                    print(f\"{book_title} is currently unavailable.\")\n",
    "                    return False\n",
    "                \n",
    "                # Vérification si l'étudiant a déjà emprunté ce livre\n",
    "                if any(b.title == book_title for b in student.borrowed_books):\n",
    "                    print(f\"{student.name} has already borrowed '{book_title}'.\")\n",
    "                    return False\n",
    "                \n",
    "                # Si le livre est disponible et que l'étudiant ne l'a pas emprunté, on l'emprunte\n",
    "                if book.borrow():\n",
    "                    student.borrowed_books.append(book)\n",
    "                    print(f\"{student.name} has borrowed '{book_title}' from the library.\")\n",
    "                    return True\n",
    "\n",
    "        print(f\"{book_title} is not available in the library.\")\n",
    "        return False\n",
    "    def accept_return(self, book_title: str, student: Student):\n",
    "        # Recherche du livre emprunté par l'étudiant\n",
    "        for book in student.borrowed_books:\n",
    "            if book.title == book_title:\n",
    "                # Si le livre est trouvé, on l'accepte en retour\n",
    "                if book.return_book():\n",
    "                    student.borrowed_books.remove(book)\n",
    "                    print(f\"{student.name} has returned '{book_title}' to the library.\")\n",
    "                    return\n",
    "        print(f\"{student.name} has not borrowed '{book_title}'.\")"
   ]
  },
  {
   "cell_type": "markdown",
   "id": "78405aa1",
   "metadata": {},
   "source": [
    "# Task 7: Implement Search Features"
   ]
  },
  {
   "cell_type": "code",
   "execution_count": 7,
   "id": "2aa00703",
   "metadata": {},
   "outputs": [],
   "source": [
    "class Library:\n",
    "    def __init__(self):\n",
    "        self.books = []\n",
    "    def add_book(self, title: str, author: str):\n",
    "        new_book = Book(title, author)\n",
    "        self.books.append(new_book)\n",
    "    def list_books(self) -> list:\n",
    "        return [str(book) for book in self.books]\n",
    "    def lend_book(self, book_title: str, student: Student) -> bool:\n",
    "        for book in self.books:\n",
    "            if book.title == book_title:\n",
    "                if not book.is_available:\n",
    "                    print(f\"{book_title} is currently unavailable.\")\n",
    "                    return False\n",
    "                if any(b.title == book_title for b in student.borrowed_books):\n",
    "                    print(f\"{student.name} has already borrowed '{book_title}'.\")\n",
    "                    return False  \n",
    "                if book.borrow():\n",
    "                    student.borrowed_books.append(book)\n",
    "                    print(f\"{student.name} has borrowed '{book_title}' from the library.\")\n",
    "                    return True\n",
    "\n",
    "        print(f\"{book_title} is not available in the library.\")\n",
    "        return False\n",
    "    def accept_return(self, book_title: str, student: Student):\n",
    "        for book in student.borrowed_books:\n",
    "            if book.title == book_title:\n",
    "                if book.return_book():\n",
    "                    student.borrowed_books.remove(book)\n",
    "                    print(f\"{student.name} has returned '{book_title}' to the library.\")\n",
    "                    return\n",
    "        print(f\"{student.name} has not borrowed '{book_title}'.\")\n",
    "    def search_books(self, query: str) -> list:\n",
    "        result = []\n",
    "        for book in self.books:\n",
    "            if query.lower() in book.title.lower() or query.lower() in book.author.lower():\n",
    "                result.append(str(book))\n",
    "        return result"
   ]
  },
  {
   "cell_type": "code",
   "execution_count": null,
   "id": "aea0da5d",
   "metadata": {},
   "outputs": [],
   "source": []
  }
 ],
 "metadata": {
  "kernelspec": {
   "display_name": "Python 3 (ipykernel)",
   "language": "python",
   "name": "python3"
  },
  "language_info": {
   "codemirror_mode": {
    "name": "ipython",
    "version": 3
   },
   "file_extension": ".py",
   "mimetype": "text/x-python",
   "name": "python",
   "nbconvert_exporter": "python",
   "pygments_lexer": "ipython3",
   "version": "3.11.5"
  }
 },
 "nbformat": 4,
 "nbformat_minor": 5
}
